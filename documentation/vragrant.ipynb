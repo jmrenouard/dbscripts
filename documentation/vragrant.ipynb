{
 "cells": [
  {
   "cell_type": "markdown",
   "id": "90d139d7",
   "metadata": {},
   "source": [
    "# Automation Vagrant by configuration file\n",
    "## Configuration settings\n",
    "\n",
    "We will try to automate all Vagrant staff across some tools:\n",
    "\n",
    " * Python Jinja2\n",
    " * Python Ansible\n",
    " * Makefile\n",
    " * Puttygen for Putty tools\n",
    " \n",
    "Only imput is a simple configuration file called server.json\n",
    "\n",
    "This script generated:\n",
    " * Vagrantfile (to start Vagrant machines)\n",
    " * Set of SSH public/private keys\n",
    " * Bashrc configuration file\n",
    " * Puttyreg configuration for putty session\n",
    " * Ansible inventory for Ansible tool\n",
    "\n",
    "Then we will be able to create, start, stop and destroy Vagant with simple make commands:\n",
    "\n",
    " * make up \n",
    " * make halt\n",
    " * make status\n",
    " * make reload\n",
    " * make provision\n",
    "\n"
   ]
  },
  {
   "cell_type": "code",
   "execution_count": 15,
   "id": "9d259690",
   "metadata": {},
   "outputs": [
    {
     "name": "stdout",
     "output_type": "stream",
     "text": [
      "rm -rf Vagrantfile puttyreg.reg id_rsa* privatekey.ppk bashrc .vagrant ansible.cfg inventory log cache\n",
      "total 12K[?2004l\n",
      "4.0K -rw-r--r-- 1 jmren jmren 1.5K Mar 12 16:07 Makefile\n",
      "4.0K -rw-r--r-- 1 jmren jmren 1.1K Jun 27 23:35 server.json\n",
      "4.0K drwxr-xr-x 2 jmren jmren 4.0K Jun 10 12:06 \u001b[0m\u001b[01;34mtemplates\u001b[0m\n",
      "\u001b[?2004h"
     ]
    },
    {
     "ename": "",
     "evalue": "1",
     "output_type": "error",
     "traceback": []
    }
   ],
   "source": [
    "make cleanup\n",
    "ls -lsh"
   ]
  },
  {
   "cell_type": "markdown",
   "id": "8ac11818",
   "metadata": {},
   "source": [
    "# configuration file (server.json)"
   ]
  },
  {
   "cell_type": "code",
   "execution_count": 13,
   "id": "302c8b17",
   "metadata": {},
   "outputs": [
    {
     "name": "stdout",
     "output_type": "stream",
     "text": [
      "{[?2004l\n",
      "  \"InstallType\": \"minimal\",\n",
      "  \"PrivateKey\": \"./privatekey.ppk\",\n",
      "  \"Rsa_PrivateKey\": \"./id_rsa_vm\",\n",
      "  \"SshUser\": \"vagrant\",\n",
      "  \"Group\": \"VagrantVms\",\n",
      "  \"LabName\": \"MySQL\",\n",
      "  \"NetInter\": \"eth0\",\n",
      "  \"Vms\": {\n",
      "    \"node0\": {\n",
      "      \"enabled\": 1,\n",
      "      \"distro\": \"ubuntu/jammy64\",\n",
      "      \"prefix\": \"mysql\",\n",
      "      \"provision_script\": \"\",\n",
      "      \"ip_private\": \"192.168.56.100\",\n",
      "      \"ip_private2\": \"192.168.57.100\",\n",
      "      \"public_dhcp_ip\": 0,\n",
      "      \"nbcpu\": 1,\n",
      "      \"ram\": 1024\n",
      "      },\n",
      "    \"node1\": {\n",
      "      \"distro\": \"ubuntu/jammy64\",\n",
      "      \"prefix\": \"mysql\",\n",
      "      \"provision_script\": \"\",\n",
      "      \"ip_private\": \"192.168.56.101\",\n",
      "      \"ip_private2\": \"192.168.57.101\",\n",
      "      \"public_dhcp_ip\": 0,\n",
      "      \"nbcpu\": 1,\n",
      "      \"ram\": 1024,\n",
      "      \"enabled\": 1\n",
      "      },\n",
      "\n",
      "    \"loadb0\": {\n",
      "      \"distro\": \"ubuntu/jammy64\",\n",
      "      \"prefix\": \"loadbalancer\",\n",
      "      \"provision_script\": \"\",\n",
      "      \"ip_private\": \"192.168.56.110\",\n",
      "      \"ip_private2\": \"192.168.57.110\",\n",
      "      \"public_dhcp_ip\": 0,\n",
      "      \"nbcpu\": 1,\n",
      "      \"ram\": 1024,\n",
      "      \"enabled\": 1\n",
      "      }\n",
      "  }\n",
      "}\n",
      "\u001b[?2004h"
     ]
    },
    {
     "ename": "",
     "evalue": "1",
     "output_type": "error",
     "traceback": []
    }
   ],
   "source": [
    "cat server.json"
   ]
  },
  {
   "cell_type": "markdown",
   "id": "90b31997",
   "metadata": {},
   "source": [
    "## Makefile file content"
   ]
  },
  {
   "cell_type": "code",
   "execution_count": 14,
   "id": "729eff0a",
   "metadata": {},
   "outputs": [
    {
     "name": "stdout",
     "output_type": "stream",
     "text": [
      "VGT=vagrant\n",
      "VGT=vagrant.exe\n",
      "\n",
      "VBGUEST_ISO=\"C:\\Program Files\\Oracle\\VirtualBox\\VBoxGuestAdditions.iso\"\n",
      "CONF_FILE=./server.json\n",
      "up:\n",
      "\t$(VGT) up \n",
      "\n",
      "status:\n",
      "\t$(VGT) status\n",
      "\n",
      "provision:\n",
      "\t$(VGT) provision\n",
      "\n",
      "halt:\n",
      "\t$(VGT) halt\n",
      "\n",
      "reload:\n",
      "\t$(VGT) reload\n",
      "\n",
      "destroy: halt\n",
      "\t$(VGT) destroy --force\n",
      "\n",
      "cleanup:\n",
      "\trm -rf Vagrantfile puttyreg.reg id_rsa* privatekey.ppk bashrc .vagrant ansible.cfg inventory log cache\n",
      "\n",
      "installvbguest:\n",
      "\t$(VGT) vbguest --do install --iso $(VBGUEST_ISO)\n",
      "\n",
      "generate_keys:\n",
      "\trm -rf id_rsa* privatekey.ppk\n",
      "\tssh-keygen -t rsa -f ./id_rsa_vm -q -P \"\"\n",
      "\tputtygen id_rsa_vm -o privatekey.ppk\n",
      "\n",
      "generate_vagrantfile:\n",
      "\techo \"## Generation Vagrantfile\"\n",
      "\tcat $(CONF_FILE) | j2 -f json templates/Vagrantfile.j2 > Vagrantfile\n",
      "\n",
      "generate_puttyreg:\n",
      "\techo \"## Generation du registre pour Putty\"\n",
      "\tcat $(CONF_FILE) | j2 -f json templates/puttyreg.reg.j2 > puttyreg.reg\n",
      "\n",
      "generate_bachrc:\n",
      "\techo \"## Generation des alias Shell\"\n",
      "\tcat $(CONF_FILE) | j2 -f json templates/alias_ssh.j2 > bashrc\n",
      "\n",
      "generate_conf_ansible:\n",
      "\techo \"## Generation du fichier Ansible.cfg\"\n",
      "\tcat $(CONF_FILE) | j2 -f json templates/ansible.cfg.j2 > ansible.cfg\n",
      "\n",
      "\techo \"## Generation du fichier Inventaire\"\n",
      "\tcat $(CONF_FILE) | j2 -f json templates/inventory.j2 > inventory\n",
      "\t[ -d \"log\" ] || mkdir log\n",
      "\t[ -d \"cache\" ] || mkdir cache\n",
      "\n",
      "install_dep:\n",
      "\tpip install j2cli ansible\n",
      "\tapt -y install puttygen\n",
      "\n",
      "generate: generate_keys generate_puttyreg generate_conf_ansible generate_bachrc generate_vagrantfile\n",
      "\n",
      "loadmod:\n",
      "\tsudo modprobe vboxdrv\n",
      "\tsudo modprobe vboxnetadp\n",
      "\tsudo /sbin/vboxconfig\n",
      "\u001b[?2004h"
     ]
    },
    {
     "ename": "",
     "evalue": "1",
     "output_type": "error",
     "traceback": []
    }
   ],
   "source": [
    "cat Makefile"
   ]
  },
  {
   "cell_type": "markdown",
   "id": "c142f4cf",
   "metadata": {},
   "source": [
    "## Dependencies installation"
   ]
  },
  {
   "cell_type": "code",
   "execution_count": 2,
   "id": "5fb6eb7f",
   "metadata": {},
   "outputs": [
    {
     "name": "stdout",
     "output_type": "stream",
     "text": [
      "/home/jmren\n",
      "pip install j2cli ansible\n",
      "Collecting j2cli\n",
      "  Downloading j2cli-0.3.10-py2.py3-none-any.whl (8.9 kB)\n",
      "Collecting ansible\n",
      "  Downloading ansible-6.0.0-py3-none-any.whl (40.3 MB)\n",
      "\u001b[K     |████████████████████████████████| 40.3 MB 1.8 MB/s eta 0:00:011\n",
      "\u001b[?25hCollecting ansible-core~=2.13.0\n",
      "  Downloading ansible_core-2.13.1-py3-none-any.whl (2.1 MB)\n",
      "\u001b[K     |████████████████████████████████| 2.1 MB 2.2 MB/s eta 0:00:01\n",
      "\u001b[?25hCollecting jinja2>=3.0.0\n",
      "  Downloading Jinja2-3.1.2-py3-none-any.whl (133 kB)\n",
      "\u001b[K     |████████████████████████████████| 133 kB 3.5 MB/s eta 0:00:01\n",
      "\u001b[?25hRequirement already satisfied: PyYAML>=5.1 in /usr/lib/python3/dist-packages (from ansible-core~=2.13.0->ansible) (5.3.1)\n",
      "Requirement already satisfied: cryptography in /usr/lib/python3/dist-packages (from ansible-core~=2.13.0->ansible) (3.3.2)\n",
      "Collecting resolvelib<0.9.0,>=0.5.3\n",
      "  Downloading resolvelib-0.8.1-py2.py3-none-any.whl (16 kB)\n",
      "Collecting packaging\n",
      "  Downloading packaging-21.3-py3-none-any.whl (40 kB)\n",
      "\u001b[K     |████████████████████████████████| 40 kB 1.6 MB/s eta 0:00:01\n",
      "\u001b[?25hCollecting MarkupSafe>=2.0\n",
      "  Downloading MarkupSafe-2.1.1-cp39-cp39-manylinux_2_17_x86_64.manylinux2014_x86_64.whl (25 kB)\n",
      "Collecting pyparsing!=3.0.5,>=2.0.2\n",
      "  Downloading pyparsing-3.0.9-py3-none-any.whl (98 kB)\n",
      "\u001b[K     |████████████████████████████████| 98 kB 2.4 MB/s eta 0:00:01\n",
      "\u001b[?25hInstalling collected packages: pyparsing, MarkupSafe, resolvelib, packaging, jinja2, ansible-core, j2cli, ansible\n",
      "  Attempting uninstall: MarkupSafe\n",
      "    Found existing installation: MarkupSafe 1.1.1\n",
      "    Not uninstalling markupsafe at /usr/lib/python3/dist-packages, outside environment /usr\n",
      "    Can't uninstall 'MarkupSafe'. No files were found to uninstall.\n",
      "  Attempting uninstall: jinja2\n",
      "    Found existing installation: Jinja2 2.11.3\n",
      "    Not uninstalling jinja2 at /usr/lib/python3/dist-packages, outside environment /usr\n",
      "    Can't uninstall 'Jinja2'. No files were found to uninstall.\n",
      "Successfully installed MarkupSafe-2.1.1 ansible-6.0.0 ansible-core-2.13.1 j2cli-0.3.10 jinja2-3.1.2 packaging-21.3 pyparsing-3.0.9 resolvelib-0.8.1\n",
      "apt -y install puttygen\n",
      "Reading package lists... Done\n",
      "Building dependency tree... Done\n",
      "Reading state information... Done\n",
      "\u001b[1;31mE: \u001b[0mUnable to locate package puttygen\u001b[0m\n",
      "make: *** [Makefile:58: install_dep] Error 100\n",
      "\u001b[?2004h"
     ]
    },
    {
     "ename": "",
     "evalue": "1",
     "output_type": "error",
     "traceback": []
    }
   ],
   "source": [
    "pwd \n",
    "cd dbscripts/vm-vagrant\n",
    "sudo make install_dep"
   ]
  },
  {
   "cell_type": "code",
   "execution_count": null,
   "id": "d2fa1b2c",
   "metadata": {},
   "outputs": [],
   "source": []
  },
  {
   "cell_type": "markdown",
   "id": "f6866392",
   "metadata": {},
   "source": []
  }
 ],
 "metadata": {
  "kernelspec": {
   "display_name": "Bash",
   "language": "bash",
   "name": "bash"
  },
  "language_info": {
   "codemirror_mode": "shell",
   "file_extension": ".sh",
   "mimetype": "text/x-sh",
   "name": "bash"
  }
 },
 "nbformat": 4,
 "nbformat_minor": 5
}
